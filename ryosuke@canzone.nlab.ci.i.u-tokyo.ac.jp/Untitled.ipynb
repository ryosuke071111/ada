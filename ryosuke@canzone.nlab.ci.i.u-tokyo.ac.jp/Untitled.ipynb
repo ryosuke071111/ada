{
 "cells": [
  {
   "cell_type": "code",
   "execution_count": 43,
   "metadata": {},
   "outputs": [
    {
     "name": "stdout",
     "output_type": "stream",
     "text": [
      "(5000, 1)\n",
      "X.shape (5000,)\n"
     ]
    }
   ],
   "source": [
    "import numpy as np\n",
    "import matplotlib.pyplot as plt\n",
    "from sklearn.model_selection import cross_val_score\n",
    "from sklearn.model_selection import train_test_split\n",
    "np.random.seed(0)\n",
    "\n",
    "\n",
    "#データを生成する\n",
    "def generate_sample(xmin=-3,xmax=3,sample_size=5000):\n",
    "  x=np.linspace(start=xmin,stop=xmax,num=sample_size)\n",
    "  pix=np.pi*x\n",
    "  target=np.sin(pix)/pix+0.1*x\n",
    "  noise=0.05*np.random.normal(loc= 0.,scale=1.,size=sample_size)\n",
    "  return x,target*noise\n",
    "\n",
    "#ガウスカーネル\n",
    "def calc_design_matrix(x_train,x_test,y_train,h,lam=0.3):\n",
    "  #thetaを算出\n",
    "  k=np.exp(-(x_train[None]-x_train[:,None])**2/(2*h**2))\n",
    "  theta=np.linalg.solve(k.T.dot(k)+lam*np.identity(len(k)),k.T.dot(y_train[:,None]))\n",
    "  K = np.exp(-(x_train[None]-x_test[:,None])**2/(2*h**2))\n",
    "  return K.dot(theta) #予測値を返す\n",
    "\n",
    "#二乗誤差\n",
    "def sqared_error(y,t):\n",
    "  return np.sum(((y-t)**2))\n",
    "\n",
    "x, y = generate_sample()\n",
    "\n",
    "def cross_validation(x,y,n):\n",
    "  index=x.size/n\n",
    "  for i in range(1,n):\n",
    "    x_train,x_test=np.concatenate(x[i*index+1:],x[:i*index+])\n",
    "    y_train,y_test=train_test_split(x,y,test_size=0.3)\n",
    "\n",
    "\n",
    "\n",
    "H=[0.01,0.1,1.0,100.0,1000.0,1000000]\n",
    "\n",
    "for h in H:\n",
    "  prediction=calc_design_matrix(x_train,x_test,y_train,h)\n",
    "  print(sqared_error(prediction,y_test))\n",
    "\n",
    "\n",
    "\n",
    "\n",
    "#クロバリ実装\n",
    "# scores=cross_val_score\n",
    "\n",
    "\n",
    "# plt.clf()\n",
    "# plt.scatter(x_train, y_train, c='green', marker='o')\n",
    "# plt.plot(X,prediction)\n",
    "# plt.show()\n",
    "\n",
    "# print(sqared_error(Y,prediction))\n",
    "# print(Y)\n",
    "# print(sqared_error(X,prediction).shape)\n",
    "# plt.savefig('lecture2-p44.png')\n",
    "# print(sqared_error(X,prediction).shape)\n",
    "# print(sqared_error(prediction,))\n"
   ]
  },
  {
   "cell_type": "code",
   "execution_count": 26,
   "metadata": {},
   "outputs": [
    {
     "name": "stdout",
     "output_type": "stream",
     "text": [
      "(1, 100)\n",
      "(100, 1)\n"
     ]
    },
    {
     "data": {
      "text/plain": [
       "array([[0.00000000e+00, 3.67309458e-03, 1.46923783e-02, ...,\n",
       "        3.45601469e+01, 3.52764004e+01, 3.60000000e+01],\n",
       "       [3.67309458e-03, 0.00000000e+00, 3.67309458e-03, ...,\n",
       "        3.38512397e+01, 3.45601469e+01, 3.52764004e+01],\n",
       "       [1.46923783e-02, 3.67309458e-03, 0.00000000e+00, ...,\n",
       "        3.31496786e+01, 3.38512397e+01, 3.45601469e+01],\n",
       "       ...,\n",
       "       [3.45601469e+01, 3.38512397e+01, 3.31496786e+01, ...,\n",
       "        0.00000000e+00, 3.67309458e-03, 1.46923783e-02],\n",
       "       [3.52764004e+01, 3.45601469e+01, 3.38512397e+01, ...,\n",
       "        3.67309458e-03, 0.00000000e+00, 3.67309458e-03],\n",
       "       [3.60000000e+01, 3.52764004e+01, 3.45601469e+01, ...,\n",
       "        1.46923783e-02, 3.67309458e-03, 0.00000000e+00]])"
      ]
     },
     "execution_count": 26,
     "metadata": {},
     "output_type": "execute_result"
    }
   ],
   "source": [
    "# x=np.array([i for i in range(9)]).reshape(3,3)\n",
    "# x\n",
    "print(x_train[None].shape)\n",
    "print(x_train[:,None].shape)\n",
    "(x_train[None]-x_train[:,None])**2"
   ]
  },
  {
   "cell_type": "code",
   "execution_count": 55,
   "metadata": {},
   "outputs": [],
   "source": [
    "from sklearn.utils import shuffle\n",
    "x=np.array([i for i in range(10)])\n",
    "y=np.array([i*2 for i in range(10)])\n",
    "x,y=shuffle(x,y)\n"
   ]
  },
  {
   "cell_type": "code",
   "execution_count": 56,
   "metadata": {},
   "outputs": [
    {
     "name": "stdout",
     "output_type": "stream",
     "text": [
      "[9 0 2 4 1 5 3 7 6 8]\n",
      "[18  0  4  8  2 10  6 14 12 16]\n"
     ]
    }
   ],
   "source": [
    "print(x)\n",
    "print(y)"
   ]
  },
  {
   "cell_type": "code",
   "execution_count": 58,
   "metadata": {},
   "outputs": [
    {
     "name": "stderr",
     "output_type": "stream",
     "text": [
      "/anaconda3/lib/python3.6/site-packages/ipykernel_launcher.py:7: UserWarning: \n",
      "This call to matplotlib.use() has no effect because the backend has already\n",
      "been chosen; matplotlib.use() must be called *before* pylab, matplotlib.pyplot,\n",
      "or matplotlib.backends is imported for the first time.\n",
      "\n",
      "The backend was *originally* set to 'module://ipykernel.pylab.backend_inline' by the following code:\n",
      "  File \"/anaconda3/lib/python3.6/runpy.py\", line 193, in _run_module_as_main\n",
      "    \"__main__\", mod_spec)\n",
      "  File \"/anaconda3/lib/python3.6/runpy.py\", line 85, in _run_code\n",
      "    exec(code, run_globals)\n",
      "  File \"/anaconda3/lib/python3.6/site-packages/ipykernel_launcher.py\", line 16, in <module>\n",
      "    app.launch_new_instance()\n",
      "  File \"/anaconda3/lib/python3.6/site-packages/traitlets/config/application.py\", line 658, in launch_instance\n",
      "    app.start()\n",
      "  File \"/anaconda3/lib/python3.6/site-packages/ipykernel/kernelapp.py\", line 486, in start\n",
      "    self.io_loop.start()\n",
      "  File \"/anaconda3/lib/python3.6/site-packages/tornado/platform/asyncio.py\", line 127, in start\n",
      "    self.asyncio_loop.run_forever()\n",
      "  File \"/anaconda3/lib/python3.6/asyncio/base_events.py\", line 422, in run_forever\n",
      "    self._run_once()\n",
      "  File \"/anaconda3/lib/python3.6/asyncio/base_events.py\", line 1432, in _run_once\n",
      "    handle._run()\n",
      "  File \"/anaconda3/lib/python3.6/asyncio/events.py\", line 145, in _run\n",
      "    self._callback(*self._args)\n",
      "  File \"/anaconda3/lib/python3.6/site-packages/tornado/platform/asyncio.py\", line 117, in _handle_events\n",
      "    handler_func(fileobj, events)\n",
      "  File \"/anaconda3/lib/python3.6/site-packages/tornado/stack_context.py\", line 276, in null_wrapper\n",
      "    return fn(*args, **kwargs)\n",
      "  File \"/anaconda3/lib/python3.6/site-packages/zmq/eventloop/zmqstream.py\", line 450, in _handle_events\n",
      "    self._handle_recv()\n",
      "  File \"/anaconda3/lib/python3.6/site-packages/zmq/eventloop/zmqstream.py\", line 480, in _handle_recv\n",
      "    self._run_callback(callback, msg)\n",
      "  File \"/anaconda3/lib/python3.6/site-packages/zmq/eventloop/zmqstream.py\", line 432, in _run_callback\n",
      "    callback(*args, **kwargs)\n",
      "  File \"/anaconda3/lib/python3.6/site-packages/tornado/stack_context.py\", line 276, in null_wrapper\n",
      "    return fn(*args, **kwargs)\n",
      "  File \"/anaconda3/lib/python3.6/site-packages/ipykernel/kernelbase.py\", line 283, in dispatcher\n",
      "    return self.dispatch_shell(stream, msg)\n",
      "  File \"/anaconda3/lib/python3.6/site-packages/ipykernel/kernelbase.py\", line 233, in dispatch_shell\n",
      "    handler(stream, idents, msg)\n",
      "  File \"/anaconda3/lib/python3.6/site-packages/ipykernel/kernelbase.py\", line 399, in execute_request\n",
      "    user_expressions, allow_stdin)\n",
      "  File \"/anaconda3/lib/python3.6/site-packages/ipykernel/ipkernel.py\", line 208, in do_execute\n",
      "    res = shell.run_cell(code, store_history=store_history, silent=silent)\n",
      "  File \"/anaconda3/lib/python3.6/site-packages/ipykernel/zmqshell.py\", line 537, in run_cell\n",
      "    return super(ZMQInteractiveShell, self).run_cell(*args, **kwargs)\n",
      "  File \"/anaconda3/lib/python3.6/site-packages/IPython/core/interactiveshell.py\", line 2666, in run_cell\n",
      "    self.events.trigger('post_run_cell', result)\n",
      "  File \"/anaconda3/lib/python3.6/site-packages/IPython/core/events.py\", line 88, in trigger\n",
      "    func(*args, **kwargs)\n",
      "  File \"/anaconda3/lib/python3.6/site-packages/ipykernel/pylab/backend_inline.py\", line 160, in configure_once\n",
      "    activate_matplotlib(backend)\n",
      "  File \"/anaconda3/lib/python3.6/site-packages/IPython/core/pylabtools.py\", line 311, in activate_matplotlib\n",
      "    matplotlib.pyplot.switch_backend(backend)\n",
      "  File \"/anaconda3/lib/python3.6/site-packages/matplotlib/pyplot.py\", line 231, in switch_backend\n",
      "    matplotlib.use(newbackend, warn=False, force=True)\n",
      "  File \"/anaconda3/lib/python3.6/site-packages/matplotlib/__init__.py\", line 1410, in use\n",
      "    reload(sys.modules['matplotlib.backends'])\n",
      "  File \"/anaconda3/lib/python3.6/importlib/__init__.py\", line 166, in reload\n",
      "    _bootstrap._exec(spec, module)\n",
      "  File \"/anaconda3/lib/python3.6/site-packages/matplotlib/backends/__init__.py\", line 16, in <module>\n",
      "    line for line in traceback.format_stack()\n",
      "\n",
      "\n",
      "  import sys\n"
     ]
    },
    {
     "data": {
      "image/png": "[encoded data removed]",
      "text/plain": [
       "<Figure size 432x288 with 1 Axes>"
      ]
     },
     "metadata": {},
     "output_type": "display_data"
    }
   ],
   "source": [
    "from __future__ import division\n",
    "from __future__ import print_function\n",
    "\n",
    "import numpy as np\n",
    "import matplotlib\n",
    "\n",
    "matplotlib.use('TkAgg')\n",
    "import matplotlib.pyplot as plt\n",
    "\n",
    "np.random.seed(0)  # set the random seed for reproducibility\n",
    "\n",
    "\n",
    "def generate_sample(xmin, xmax, sample_size):\n",
    "    x = np.linspace(start=xmin, stop=xmax, num=sample_size)\n",
    "    pix = np.pi * x\n",
    "    target = np.sin(pix) / pix + 0.1 * x\n",
    "    noise = 0.05 * np.random.normal(loc=0., scale=1., size=sample_size)\n",
    "    return x, target + noise\n",
    "\n",
    "\n",
    "def calc_design_matrix(x, c, h):\n",
    "    return np.exp(-(x[None] - c[:, None]) ** 2 / (2 * h ** 2))\n",
    "\n",
    "\n",
    "# create sample\n",
    "sample_size = 50\n",
    "xmin, xmax = -3, 3\n",
    "x, y = generate_sample(xmin=xmin, xmax=xmax, sample_size=sample_size)\n",
    "\n",
    "# calculate design matrix\n",
    "h = 0.1\n",
    "k = calc_design_matrix(x, x, h)\n",
    "\n",
    "# solve the least square problem\n",
    "l = 0.3\n",
    "theta = np.linalg.solve(\n",
    "    k.T.dot(k) + l * np.identity(len(k)),\n",
    "    k.T.dot(y[:, None]))\n",
    "\n",
    "# create data to visualize the prediction\n",
    "X = np.linspace(start=xmin, stop=xmax, num=5000)\n",
    "K = calc_design_matrix(x, X, h)\n",
    "prediction = K.dot(theta)\n",
    "\n",
    "# visualization\n",
    "plt.clf()\n",
    "plt.scatter(x, y, c='green', marker='o')\n",
    "plt.plot(X, prediction)\n",
    "plt.show()"
   ]
  },
  {
   "cell_type": "code",
   "execution_count": 59,
   "metadata": {},
   "outputs": [
    {
     "data": {
      "image/png": "[encoded data removed]",
      "text/plain": [
       "<Figure size 432x288 with 1 Axes>"
      ]
     },
     "metadata": {},
     "output_type": "display_data"
    }
   ],
   "source": [
    "plt.clf()\n",
    "plt.scatter(x, y, c='green', marker='o')\n",
    "# plt.plot(X, prediction)\n",
    "plt.show()"
   ]
  },
  {
   "cell_type": "code",
   "execution_count": null,
   "metadata": {},
   "outputs": [],
   "source": []
  }
 ],
 "metadata": {
  "kernelspec": {
   "display_name": "Python 3",
   "language": "python",
   "name": "python3"
  },
  "language_info": {
   "codemirror_mode": {
    "name": "ipython",
    "version": 3
   },
   "file_extension": ".py",
   "mimetype": "text/x-python",
   "name": "python",
   "nbconvert_exporter": "python",
   "pygments_lexer": "ipython3",
   "version": "3.6.5"
  }
 },
 "nbformat": 4,
 "nbformat_minor": 2
}
